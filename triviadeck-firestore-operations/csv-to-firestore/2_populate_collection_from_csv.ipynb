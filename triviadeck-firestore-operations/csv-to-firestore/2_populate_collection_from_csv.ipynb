{
 "cells": [
  {
   "cell_type": "code",
   "execution_count": 1,
   "metadata": {},
   "outputs": [],
   "source": [
    "# ADDS DATA FROM SPECIFIED CSV TO FIRESTORE COLLECTION. ALL FIELDS AS STRINGS."
   ]
  },
  {
   "cell_type": "code",
   "execution_count": 2,
   "metadata": {},
   "outputs": [],
   "source": [
    "# https://medium.com/@cbrannen/importing-data-into-firestore-using-python-dce2d6d3cd51\n",
    "# Use conda environment 'firestore-operations'\n",
    "# https://code.visualstudio.com/docs/python/environments#_conda-environments\n",
    "\"\"\" \n",
    "To ensure the environment is set up well from a shell perspective, \n",
    "one option is to use an Anaconda prompt with the activated environment \n",
    "to launch VS Code using the code . command. At that point you just \n",
    "need to select the interpreter using the Command Palette or by clicking \n",
    "on the status bar.\n",
    "\"\"\"\n",
    "\n",
    "import csv\n",
    "import firebase_admin\n",
    "import google.cloud\n",
    "from firebase_admin import credentials, firestore"
   ]
  },
  {
   "cell_type": "code",
   "execution_count": 3,
   "metadata": {},
   "outputs": [],
   "source": [
    "cred = credentials.Certificate(\"../secrets/ServiceAccountKey.json\")\n",
    "app = firebase_admin.initialize_app(cred)\n",
    "\n",
    "store = firestore.client()\n"
   ]
  },
  {
   "cell_type": "code",
   "execution_count": 4,
   "metadata": {},
   "outputs": [],
   "source": [
    "file_path = # set path\n",
    "collection_name = \"triviaContent\""
   ]
  },
  {
   "cell_type": "code",
   "execution_count": 5,
   "metadata": {},
   "outputs": [],
   "source": [
    "def batch_data(iterable, n=1):\n",
    "    l = len(iterable)\n",
    "    for ndx in range(0, l, n):\n",
    "        yield iterable[ndx:min(ndx + n, l)]"
   ]
  },
  {
   "cell_type": "code",
   "execution_count": 6,
   "metadata": {},
   "outputs": [
    {
     "name": "stdout",
     "output_type": "stream",
     "text": [
      "Processed 61904 lines.\n",
      "Done\n"
     ]
    }
   ],
   "source": [
    "data = []\n",
    "headers = []\n",
    "with open(file_path, encoding=\"utf8\") as csv_file:\n",
    "    csv_reader = csv.reader(csv_file, delimiter=',')\n",
    "    line_count = 0\n",
    "    for row in csv_reader:\n",
    "        if line_count == 0:\n",
    "            for header in row:\n",
    "                headers.append(header)\n",
    "            line_count += 1\n",
    "        else:\n",
    "            obj = {}\n",
    "            for idx, item in enumerate(row):\n",
    "                obj[headers[idx]] = item\n",
    "            data.append(obj)\n",
    "            line_count += 1\n",
    "    print(f'Processed {line_count} lines.')\n",
    "\n",
    "for batched_data in batch_data(data, 499):\n",
    "    batch = store.batch()\n",
    "    for data_item in batched_data:\n",
    "        doc_ref = store.collection(collection_name).document()\n",
    "        batch.set(doc_ref, data_item)\n",
    "    batch.commit()\n",
    "    \n",
    "print('Done')"
   ]
  },
  {
   "cell_type": "code",
   "execution_count": null,
   "metadata": {},
   "outputs": [],
   "source": []
  }
 ],
 "metadata": {
  "kernelspec": {
   "display_name": "Python 3",
   "language": "python",
   "name": "python3"
  },
  "language_info": {
   "codemirror_mode": {
    "name": "ipython",
    "version": 3
   },
   "file_extension": ".py",
   "mimetype": "text/x-python",
   "name": "python",
   "nbconvert_exporter": "python",
   "pygments_lexer": "ipython3",
   "version": "3.9.1"
  }
 },
 "nbformat": 4,
 "nbformat_minor": 4
}
